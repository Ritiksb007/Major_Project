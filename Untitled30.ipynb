{
  "nbformat": 4,
  "nbformat_minor": 0,
  "metadata": {
    "colab": {
      "provenance": []
    },
    "kernelspec": {
      "name": "python3",
      "display_name": "Python 3"
    },
    "language_info": {
      "name": "python"
    }
  },
  "cells": [
    {
      "cell_type": "code",
      "execution_count": 1,
      "metadata": {
        "id": "ljcvmcq55jD4"
      },
      "outputs": [],
      "source": [
        "import zipfile\n",
        "zip_ref = zipfile.ZipFile('/content/train.zip', 'r')\n",
        "zip_ref.extractall('/content')\n",
        "zip_ref.close()"
      ]
    },
    {
      "cell_type": "code",
      "source": [
        "import shutil\n",
        "import os\n",
        "\n",
        "# Define source and destination paths\n",
        "#src_A = '/content/Mild'  # Change this to the path of folder A\n",
        "#src_B = '/content/Moderate'  # Change this to the path of folder B\n",
        "src_C = '/content/No_DR'  # Change this to the path of folder A\n",
        "src_D = '/content/Proliferate_DR'  # Change this to the path of folder B\n",
        "src_E = '/content/Severe'  # Change this to the path of folder A\n",
        "\n",
        "dest = '/content/train'  # Destination folder\n",
        "\n",
        "# Create the destination folder if it doesn't exist\n",
        "if not os.path.exists(dest):\n",
        "    os.makedirs(dest)\n",
        "\n",
        "# Move the A and B folders to the train folder\n",
        "#shutil.move(src_A, dest)\n",
        "#shutil.move(src_B, dest)\n",
        "shutil.move(src_C, dest)\n",
        "shutil.move(src_D, dest)\n",
        "shutil.move(src_E, dest)\n",
        "\n",
        "\n",
        "print(\"Folders moved successfully!\")\n"
      ],
      "metadata": {
        "colab": {
          "base_uri": "https://localhost:8080/"
        },
        "id": "ylg8Eo6t-uW2",
        "outputId": "72e9de5e-68c3-4c56-ea88-95df7ed851f6"
      },
      "execution_count": 5,
      "outputs": [
        {
          "output_type": "stream",
          "name": "stdout",
          "text": [
            "Folders moved successfully!\n"
          ]
        }
      ]
    },
    {
      "cell_type": "code",
      "source": [
        "import zipfile\n",
        "zip_ref = zipfile.ZipFile('/content/test (1).zip', 'r')\n",
        "zip_ref.extractall('/content')\n",
        "zip_ref.close()"
      ],
      "metadata": {
        "id": "ycc6JzcBEfdx"
      },
      "execution_count": 6,
      "outputs": []
    },
    {
      "cell_type": "code",
      "source": [
        "import shutil\n",
        "import os\n",
        "\n",
        "# Define source and destination paths\n",
        "src_A = '/content/Mild'  # Change this to the path of folder A\n",
        "src_B = '/content/Moderate'  # Change this to the path of folder B\n",
        "src_C = '/content/No_DR'  # Change this to the path of folder A\n",
        "src_D = '/content/Proliferate_DR'  # Change this to the path of folder B\n",
        "src_E = '/content/Severe'  # Change this to the path of folder A\n",
        "\n",
        "dest = '/content/test'  # Destination folder\n",
        "\n",
        "# Create the destination folder if it doesn't exist\n",
        "if not os.path.exists(dest):\n",
        "    os.makedirs(dest)\n",
        "\n",
        "# Move the A and B folders to the train folder\n",
        "shutil.move(src_A, dest)\n",
        "shutil.move(src_B, dest)\n",
        "shutil.move(src_C, dest)\n",
        "shutil.move(src_D, dest)\n",
        "shutil.move(src_E, dest)\n",
        "\n",
        "\n",
        "print(\"Folders moved successfully!\")\n"
      ],
      "metadata": {
        "colab": {
          "base_uri": "https://localhost:8080/"
        },
        "id": "ov1N2mHHFJIW",
        "outputId": "6c5d09f8-b40d-46d6-858a-9b9a5609473b"
      },
      "execution_count": 7,
      "outputs": [
        {
          "output_type": "stream",
          "name": "stdout",
          "text": [
            "Folders moved successfully!\n"
          ]
        }
      ]
    },
    {
      "cell_type": "code",
      "source": [
        "import tensorflow\n",
        "from tensorflow import keras"
      ],
      "metadata": {
        "id": "elhKpsbPFwn5"
      },
      "execution_count": 8,
      "outputs": []
    },
    {
      "cell_type": "code",
      "source": [
        "# generators\n",
        "train_ds = keras.utils.image_dataset_from_directory(\n",
        "    directory = '/content/train',\n",
        "    labels='inferred',\n",
        "    label_mode = 'categorical',\n",
        "    batch_size=32,\n",
        "    image_size=(150,150)\n",
        ")\n",
        "\n",
        "validation_ds = keras.utils.image_dataset_from_directory(\n",
        "    directory = '/content/test',\n",
        "    labels='inferred',\n",
        "    label_mode = 'categorical',\n",
        "    batch_size=32,\n",
        "    image_size=(150,150)\n",
        ")"
      ],
      "metadata": {
        "colab": {
          "base_uri": "https://localhost:8080/"
        },
        "id": "iJtDdQqTGEpk",
        "outputId": "abd5557f-9688-4d77-e141-f98857b62e9e"
      },
      "execution_count": 11,
      "outputs": [
        {
          "output_type": "stream",
          "name": "stdout",
          "text": [
            "Found 28101 files belonging to 5 classes.\n",
            "Found 7025 files belonging to 5 classes.\n"
          ]
        }
      ]
    }
  ]
}