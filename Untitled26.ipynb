{
  "nbformat": 4,
  "nbformat_minor": 0,
  "metadata": {
    "colab": {
      "provenance": []
    },
    "kernelspec": {
      "name": "python3",
      "display_name": "Python 3"
    },
    "language_info": {
      "name": "python"
    }
  },
  "cells": [
    {
      "cell_type": "code",
      "execution_count": null,
      "metadata": {
        "id": "_5e0Ya_hPWE3"
      },
      "outputs": [],
      "source": [
        "import zipfile\n",
        "zip_ref = zipfile.ZipFile('/content/val_dataset.zip', 'r')\n",
        "zip_ref.extractall('/content')\n",
        "zip_ref.close()"
      ]
    },
    {
      "cell_type": "code",
      "source": [
        "import os\n",
        "import shutil\n",
        "import random\n",
        "from collections import Counter\n",
        "import zipfile\n",
        "\n",
        "def split_dataset(source_dir, train_dir, test_dir, val_dir, train_ratio=0.8, test_ratio=0.1, val_ratio=0.1):\n",
        "    # Create output directories\n",
        "    for dir in [train_dir, test_dir, val_dir]:\n",
        "        if os.path.exists(dir):\n",
        "            shutil.rmtree(dir)\n",
        "        os.makedirs(dir)\n",
        "\n",
        "    # Get all subdirectories (classes) in the source directory\n",
        "    classes = [d for d in os.listdir(source_dir) if os.path.isdir(os.path.join(source_dir, d))]\n",
        "\n",
        "    # Dictionary to store counts\n",
        "    counts = {'train': Counter(), 'test': Counter(), 'val': Counter()}\n",
        "\n",
        "    for cls in classes:\n",
        "        # Create class directories in output folders\n",
        "        os.makedirs(os.path.join(train_dir, cls))\n",
        "        os.makedirs(os.path.join(test_dir, cls))\n",
        "        os.makedirs(os.path.join(val_dir, cls))\n",
        "\n",
        "        # Get all files in the class directory\n",
        "        files = [f for f in os.listdir(os.path.join(source_dir, cls)) if f.endswith(('.jpg', '.jpeg', '.png'))]\n",
        "        random.shuffle(files)\n",
        "\n",
        "        # Calculate split indices\n",
        "        train_split = int(len(files) * train_ratio)\n",
        "        test_split = int(len(files) * (train_ratio + test_ratio))\n",
        "\n",
        "        # Split files and copy to respective directories\n",
        "        for i, file in enumerate(files):\n",
        "            src = os.path.join(source_dir, cls, file)\n",
        "            if i < train_split:\n",
        "                dst = os.path.join(train_dir, cls, file)\n",
        "                counts['train'][cls] += 1\n",
        "            elif i < test_split:\n",
        "                dst = os.path.join(test_dir, cls, file)\n",
        "                counts['test'][cls] += 1\n",
        "            else:\n",
        "                dst = os.path.join(val_dir, cls, file)\n",
        "                counts['val'][cls] += 1\n",
        "            shutil.copy2(src, dst)\n",
        "\n",
        "    return counts\n",
        "\n",
        "def create_zip(directory, zip_name):\n",
        "    with zipfile.ZipFile(zip_name, 'w', zipfile.ZIP_DEFLATED) as zipf:\n",
        "        for root, _, files in os.walk(directory):\n",
        "            for file in files:\n",
        "                zipf.write(os.path.join(root, file),\n",
        "                           os.path.relpath(os.path.join(root, file),\n",
        "                                           os.path.join(directory, '..')))\n",
        "\n",
        "# Set your directories\n",
        "source_dir = '/content/balanced_data'  # Replace with your dataset path\n",
        "output_base = 'path/to/output'  # Replace with your desired output path\n",
        "train_dir = os.path.join(output_base, 'train')\n",
        "test_dir = os.path.join(output_base, 'test')\n",
        "val_dir = os.path.join(output_base, 'val')\n",
        "\n",
        "# Split the dataset\n",
        "counts = split_dataset(source_dir, train_dir, test_dir, val_dir)\n",
        "\n",
        "# Print counts\n",
        "for split, class_counts in counts.items():\n",
        "    print(f\"\\n{split.capitalize()} set:\")\n",
        "    for cls, count in class_counts.items():\n",
        "        print(f\"  {cls}: {count}\")\n",
        "    print(f\"  Total: {sum(class_counts.values())}\")\n",
        "\n",
        "# Create zip files\n",
        "create_zip(train_dir, 'train_dataset.zip')\n",
        "create_zip(test_dir, 'test_dataset.zip')\n",
        "create_zip(val_dir, 'val_dataset.zip')\n",
        "\n",
        "print(\"\\nDataset has been split and saved.\")\n",
        "print(\"Download links:\")\n",
        "print(\"Train dataset: /path/to/train_dataset.zip\")\n",
        "print(\"Test dataset: /path/to/test_dataset.zip\")\n",
        "print(\"Validation dataset: /path/to/val_dataset.zip\")"
      ],
      "metadata": {
        "colab": {
          "base_uri": "https://localhost:8080/"
        },
        "id": "YIuNxXqtQlIy",
        "outputId": "2a4f1d5f-bb8d-47b2-cb54-75d9e50b3b52"
      },
      "execution_count": null,
      "outputs": [
        {
          "output_type": "stream",
          "name": "stdout",
          "text": [
            "\n",
            "Train set:\n",
            "  Proliferate_DR: 564\n",
            "  Moderate: 564\n",
            "  No_DR: 564\n",
            "  Mild: 564\n",
            "  Severe: 564\n",
            "  Total: 2820\n",
            "\n",
            "Test set:\n",
            "  Proliferate_DR: 70\n",
            "  Moderate: 70\n",
            "  No_DR: 70\n",
            "  Mild: 70\n",
            "  Severe: 70\n",
            "  Total: 350\n",
            "\n",
            "Val set:\n",
            "  Proliferate_DR: 71\n",
            "  Moderate: 71\n",
            "  No_DR: 71\n",
            "  Mild: 71\n",
            "  Severe: 71\n",
            "  Total: 355\n",
            "\n",
            "Dataset has been split and saved.\n",
            "Download links:\n",
            "Train dataset: /path/to/train_dataset.zip\n",
            "Test dataset: /path/to/test_dataset.zip\n",
            "Validation dataset: /path/to/val_dataset.zip\n"
          ]
        }
      ]
    },
    {
      "cell_type": "code",
      "source": [],
      "metadata": {
        "id": "K3G5VBv65AAH"
      },
      "execution_count": null,
      "outputs": []
    },
    {
      "cell_type": "code",
      "source": [
        "import tensorflow as tf\n",
        "from tensorflow.keras.applications import ResNet152V2\n",
        "from tensorflow.keras.layers import Dense, GlobalAveragePooling2D, Dropout\n",
        "from tensorflow.keras.models import Model\n",
        "from tensorflow.keras.optimizers import Adam\n",
        "from tensorflow.keras.preprocessing.image import ImageDataGenerator"
      ],
      "metadata": {
        "id": "70ozkOTiTKvo"
      },
      "execution_count": null,
      "outputs": []
    },
    {
      "cell_type": "code",
      "source": [
        "# Set random seed for reproducibility\n",
        "tf.random.set_seed(42)\n"
      ],
      "metadata": {
        "id": "6opRlv6ITQkY"
      },
      "execution_count": null,
      "outputs": []
    },
    {
      "cell_type": "code",
      "source": [
        "# Define constants\n",
        "IMG_SIZE = (224, 224)\n",
        "BATCH_SIZE = 32\n",
        "EPOCHS = 50\n",
        "NUM_CLASSES = 5\n"
      ],
      "metadata": {
        "id": "jpBXLPzBTWyp"
      },
      "execution_count": null,
      "outputs": []
    },
    {
      "cell_type": "code",
      "source": [
        "# Define data directories\n",
        "train_dir = '/content/train'\n",
        "val_dir = '/content/val'\n",
        "test_dir = '/content/test'"
      ],
      "metadata": {
        "id": "NQzcTXdziFPj"
      },
      "execution_count": null,
      "outputs": []
    },
    {
      "cell_type": "code",
      "source": [
        "# Create data generators with augmentation\n",
        "train_datagen = ImageDataGenerator(\n",
        "    rescale=1./255,\n",
        "    rotation_range=20,\n",
        "    width_shift_range=0.2,\n",
        "    height_shift_range=0.2,\n",
        "    shear_range=0.2,\n",
        "    zoom_range=0.2,\n",
        "    horizontal_flip=True,\n",
        "    fill_mode='nearest'\n",
        ")\n",
        "\n",
        "val_datagen = ImageDataGenerator(rescale=1./255)\n",
        "test_datagen = ImageDataGenerator(rescale=1./255)\n",
        "\n",
        "train_generator = train_datagen.flow_from_directory(\n",
        "    train_dir,\n",
        "    target_size=IMG_SIZE,\n",
        "    batch_size=BATCH_SIZE,\n",
        "    class_mode='categorical'\n",
        ")\n",
        "\n",
        "val_generator = val_datagen.flow_from_directory(\n",
        "    val_dir,\n",
        "    target_size=IMG_SIZE,\n",
        "    batch_size=BATCH_SIZE,\n",
        "    class_mode='categorical'\n",
        ")\n",
        "\n",
        "test_generator = test_datagen.flow_from_directory(\n",
        "    test_dir,\n",
        "    target_size=IMG_SIZE,\n",
        "    batch_size=BATCH_SIZE,\n",
        "    class_mode='categorical',\n",
        "    shuffle=False\n",
        ")"
      ],
      "metadata": {
        "colab": {
          "base_uri": "https://localhost:8080/"
        },
        "id": "8mxbpZRoiX5z",
        "outputId": "9e3427f8-796d-42f3-f4ea-165cdf4799e9"
      },
      "execution_count": null,
      "outputs": [
        {
          "output_type": "stream",
          "name": "stdout",
          "text": [
            "Found 2820 images belonging to 5 classes.\n",
            "Found 355 images belonging to 5 classes.\n",
            "Found 350 images belonging to 5 classes.\n"
          ]
        }
      ]
    },
    {
      "cell_type": "code",
      "source": [
        "# Load pre-trained ResNet152V2 model\n",
        "base_model = ResNet152V2(weights='imagenet', include_top=False, input_shape=(224, 224, 3))"
      ],
      "metadata": {
        "id": "L6UpXV2FioEy"
      },
      "execution_count": null,
      "outputs": []
    },
    {
      "cell_type": "code",
      "source": [
        "# Freeze the base model layers\n",
        "for layer in base_model.layers:\n",
        "    layer.trainable = False"
      ],
      "metadata": {
        "id": "ScHntqU5iup3"
      },
      "execution_count": null,
      "outputs": []
    },
    {
      "cell_type": "code",
      "source": [
        "# Add custom layers on top of the base model\n",
        "x = base_model.output\n",
        "x = GlobalAveragePooling2D()(x)\n",
        "x = Dense(1024, activation='relu')(x)\n",
        "x = Dropout(0.5)(x)\n",
        "x = Dense(512, activation='relu')(x)\n",
        "x = Dropout(0.3)(x)\n",
        "outputs = Dense(NUM_CLASSES, activation='softmax')(x)"
      ],
      "metadata": {
        "id": "a21rmJXVi6e4"
      },
      "execution_count": null,
      "outputs": []
    },
    {
      "cell_type": "code",
      "source": [
        "# Create the final model\n",
        "model = Model(inputs=base_model.input, outputs=outputs)"
      ],
      "metadata": {
        "id": "5gkAx3d9i6iG"
      },
      "execution_count": null,
      "outputs": []
    },
    {
      "cell_type": "code",
      "source": [
        "# Compile the model\n",
        "model.compile(optimizer=Adam(learning_rate=0.0001),\n",
        "              loss='categorical_crossentropy',\n",
        "              metrics=['accuracy'])\n"
      ],
      "metadata": {
        "id": "TrmH4yAci6l4"
      },
      "execution_count": null,
      "outputs": []
    },
    {
      "cell_type": "code",
      "source": [
        "# Define callbacks\n",
        "early_stopping = tf.keras.callbacks.EarlyStopping(\n",
        "    monitor='val_loss', patience=10, restore_best_weights=True\n",
        ")\n",
        "reduce_lr = tf.keras.callbacks.ReduceLROnPlateau(\n",
        "    monitor='val_loss', factor=0.2, patience=5, min_lr=1e-6\n",
        ")\n",
        "\n"
      ],
      "metadata": {
        "id": "Q9w2nb_4i6pW"
      },
      "execution_count": null,
      "outputs": []
    },
    {
      "cell_type": "code",
      "source": [
        "# Train the model\n",
        "history = model.fit(\n",
        "    train_generator,\n",
        "    steps_per_epoch=train_generator.samples // BATCH_SIZE,\n",
        "    validation_data=val_generator,\n",
        "    validation_steps=val_generator.samples // BATCH_SIZE,\n",
        "    epochs=EPOCHS,\n",
        "    callbacks=[early_stopping, reduce_lr]\n",
        ")"
      ],
      "metadata": {
        "colab": {
          "base_uri": "https://localhost:8080/"
        },
        "id": "R2u_OpXQi6sh",
        "outputId": "e2ed0dd4-d4b7-4b47-d120-2d90a2f1ac28"
      },
      "execution_count": null,
      "outputs": [
        {
          "output_type": "stream",
          "name": "stdout",
          "text": [
            "Epoch 1/50\n"
          ]
        },
        {
          "output_type": "stream",
          "name": "stderr",
          "text": [
            "/usr/local/lib/python3.10/dist-packages/keras/src/trainers/data_adapters/py_dataset_adapter.py:121: UserWarning: Your `PyDataset` class should call `super().__init__(**kwargs)` in its constructor. `**kwargs` can include `workers`, `use_multiprocessing`, `max_queue_size`. Do not pass these arguments to `fit()`, as they will be ignored.\n",
            "  self._warn_if_super_not_called()\n"
          ]
        },
        {
          "output_type": "stream",
          "name": "stdout",
          "text": [
            "\u001b[1m88/88\u001b[0m \u001b[32m━━━━━━━━━━━━━━━━━━━━\u001b[0m\u001b[37m\u001b[0m \u001b[1m89s\u001b[0m 644ms/step - accuracy: 0.2534 - loss: 1.8164 - val_accuracy: 0.3153 - val_loss: 1.5203 - learning_rate: 1.0000e-04\n",
            "Epoch 2/50\n",
            "\u001b[1m 1/88\u001b[0m \u001b[37m━━━━━━━━━━━━━━━━━━━━\u001b[0m \u001b[1m15s\u001b[0m 180ms/step - accuracy: 0.4062 - loss: 1.4171"
          ]
        },
        {
          "output_type": "stream",
          "name": "stderr",
          "text": [
            "/usr/lib/python3.10/contextlib.py:153: UserWarning: Your input ran out of data; interrupting training. Make sure that your dataset or generator can generate at least `steps_per_epoch * epochs` batches. You may need to use the `.repeat()` function when building your dataset.\n",
            "  self.gen.throw(typ, value, traceback)\n"
          ]
        },
        {
          "output_type": "stream",
          "name": "stdout",
          "text": [
            "\b\b\b\b\b\b\b\b\b\b\b\b\b\b\b\b\b\b\b\b\b\b\b\b\b\b\b\b\b\b\b\b\b\b\b\b\b\b\b\b\b\b\b\b\b\b\b\b\b\b\b\b\b\b\b\b\b\b\b\b\b\b\b\b\b\b\b\b\b\b\b\b\b\b\b\r\u001b[1m88/88\u001b[0m \u001b[32m━━━━━━━━━━━━━━━━━━━━\u001b[0m\u001b[37m\u001b[0m \u001b[1m5s\u001b[0m 53ms/step - accuracy: 0.4062 - loss: 1.4171 - val_accuracy: 0.0000e+00 - val_loss: 1.5467 - learning_rate: 1.0000e-04\n",
            "Epoch 3/50\n",
            "\u001b[1m88/88\u001b[0m \u001b[32m━━━━━━━━━━━━━━━━━━━━\u001b[0m\u001b[37m\u001b[0m \u001b[1m48s\u001b[0m 437ms/step - accuracy: 0.3102 - loss: 1.5919 - val_accuracy: 0.3466 - val_loss: 1.4901 - learning_rate: 1.0000e-04\n",
            "Epoch 4/50\n",
            "\u001b[1m88/88\u001b[0m \u001b[32m━━━━━━━━━━━━━━━━━━━━\u001b[0m\u001b[37m\u001b[0m \u001b[1m0s\u001b[0m 834us/step - accuracy: 0.3438 - loss: 1.6734 - val_accuracy: 0.0000e+00 - val_loss: 1.8946 - learning_rate: 1.0000e-04\n",
            "Epoch 5/50\n",
            "\u001b[1m88/88\u001b[0m \u001b[32m━━━━━━━━━━━━━━━━━━━━\u001b[0m\u001b[37m\u001b[0m \u001b[1m41s\u001b[0m 437ms/step - accuracy: 0.2974 - loss: 1.5572 - val_accuracy: 0.3097 - val_loss: 1.4915 - learning_rate: 1.0000e-04\n",
            "Epoch 6/50\n",
            "\u001b[1m88/88\u001b[0m \u001b[32m━━━━━━━━━━━━━━━━━━━━\u001b[0m\u001b[37m\u001b[0m \u001b[1m1s\u001b[0m 5ms/step - accuracy: 0.3750 - loss: 1.4169 - val_accuracy: 0.3333 - val_loss: 1.3849 - learning_rate: 1.0000e-04\n",
            "Epoch 7/50\n",
            "\u001b[1m88/88\u001b[0m \u001b[32m━━━━━━━━━━━━━━━━━━━━\u001b[0m\u001b[37m\u001b[0m \u001b[1m82s\u001b[0m 443ms/step - accuracy: 0.3179 - loss: 1.5128 - val_accuracy: 0.3864 - val_loss: 1.4489 - learning_rate: 1.0000e-04\n",
            "Epoch 8/50\n",
            "\u001b[1m88/88\u001b[0m \u001b[32m━━━━━━━━━━━━━━━━━━━━\u001b[0m\u001b[37m\u001b[0m \u001b[1m0s\u001b[0m 1ms/step - accuracy: 0.4375 - loss: 1.5229 - val_accuracy: 0.3333 - val_loss: 1.4929 - learning_rate: 1.0000e-04\n",
            "Epoch 9/50\n",
            "\u001b[1m88/88\u001b[0m \u001b[32m━━━━━━━━━━━━━━━━━━━━\u001b[0m\u001b[37m\u001b[0m \u001b[1m81s\u001b[0m 441ms/step - accuracy: 0.3352 - loss: 1.4741 - val_accuracy: 0.3636 - val_loss: 1.4401 - learning_rate: 1.0000e-04\n",
            "Epoch 10/50\n",
            "\u001b[1m88/88\u001b[0m \u001b[32m━━━━━━━━━━━━━━━━━━━━\u001b[0m\u001b[37m\u001b[0m \u001b[1m1s\u001b[0m 5ms/step - accuracy: 0.3438 - loss: 1.4877 - val_accuracy: 0.6667 - val_loss: 1.2569 - learning_rate: 1.0000e-04\n",
            "Epoch 11/50\n",
            "\u001b[1m88/88\u001b[0m \u001b[32m━━━━━━━━━━━━━━━━━━━━\u001b[0m\u001b[37m\u001b[0m \u001b[1m41s\u001b[0m 443ms/step - accuracy: 0.3468 - loss: 1.4680 - val_accuracy: 0.3807 - val_loss: 1.4323 - learning_rate: 1.0000e-04\n",
            "Epoch 12/50\n",
            "\u001b[1m88/88\u001b[0m \u001b[32m━━━━━━━━━━━━━━━━━━━━\u001b[0m\u001b[37m\u001b[0m \u001b[1m0s\u001b[0m 810us/step - accuracy: 0.2500 - loss: 1.5381 - val_accuracy: 0.3333 - val_loss: 1.4290 - learning_rate: 1.0000e-04\n",
            "Epoch 13/50\n",
            "\u001b[1m88/88\u001b[0m \u001b[32m━━━━━━━━━━━━━━━━━━━━\u001b[0m\u001b[37m\u001b[0m \u001b[1m82s\u001b[0m 446ms/step - accuracy: 0.3479 - loss: 1.4598 - val_accuracy: 0.3750 - val_loss: 1.4399 - learning_rate: 1.0000e-04\n",
            "Epoch 14/50\n",
            "\u001b[1m88/88\u001b[0m \u001b[32m━━━━━━━━━━━━━━━━━━━━\u001b[0m\u001b[37m\u001b[0m \u001b[1m0s\u001b[0m 899us/step - accuracy: 0.4688 - loss: 1.4229 - val_accuracy: 0.3333 - val_loss: 1.3605 - learning_rate: 1.0000e-04\n",
            "Epoch 15/50\n",
            "\u001b[1m88/88\u001b[0m \u001b[32m━━━━━━━━━━━━━━━━━━━━\u001b[0m\u001b[37m\u001b[0m \u001b[1m82s\u001b[0m 433ms/step - accuracy: 0.3665 - loss: 1.4400 - val_accuracy: 0.3807 - val_loss: 1.4404 - learning_rate: 1.0000e-04\n",
            "Epoch 16/50\n",
            "\u001b[1m88/88\u001b[0m \u001b[32m━━━━━━━━━━━━━━━━━━━━\u001b[0m\u001b[37m\u001b[0m \u001b[1m1s\u001b[0m 5ms/step - accuracy: 0.5312 - loss: 1.3731 - val_accuracy: 0.6667 - val_loss: 1.1481 - learning_rate: 2.0000e-05\n",
            "Epoch 17/50\n",
            "\u001b[1m88/88\u001b[0m \u001b[32m━━━━━━━━━━━━━━━━━━━━\u001b[0m\u001b[37m\u001b[0m \u001b[1m81s\u001b[0m 442ms/step - accuracy: 0.3961 - loss: 1.3891 - val_accuracy: 0.3665 - val_loss: 1.4360 - learning_rate: 2.0000e-05\n",
            "Epoch 18/50\n",
            "\u001b[1m88/88\u001b[0m \u001b[32m━━━━━━━━━━━━━━━━━━━━\u001b[0m\u001b[37m\u001b[0m \u001b[1m0s\u001b[0m 805us/step - accuracy: 0.2812 - loss: 1.4418 - val_accuracy: 0.3333 - val_loss: 1.2254 - learning_rate: 2.0000e-05\n",
            "Epoch 19/50\n",
            "\u001b[1m88/88\u001b[0m \u001b[32m━━━━━━━━━━━━━━━━━━━━\u001b[0m\u001b[37m\u001b[0m \u001b[1m81s\u001b[0m 435ms/step - accuracy: 0.3518 - loss: 1.4512 - val_accuracy: 0.3835 - val_loss: 1.4288 - learning_rate: 2.0000e-05\n",
            "Epoch 20/50\n",
            "\u001b[1m88/88\u001b[0m \u001b[32m━━━━━━━━━━━━━━━━━━━━\u001b[0m\u001b[37m\u001b[0m \u001b[1m0s\u001b[0m 823us/step - accuracy: 0.3750 - loss: 1.3925 - val_accuracy: 0.3333 - val_loss: 1.2192 - learning_rate: 2.0000e-05\n",
            "Epoch 21/50\n",
            "\u001b[1m88/88\u001b[0m \u001b[32m━━━━━━━━━━━━━━━━━━━━\u001b[0m\u001b[37m\u001b[0m \u001b[1m41s\u001b[0m 434ms/step - accuracy: 0.3889 - loss: 1.4080 - val_accuracy: 0.3920 - val_loss: 1.4272 - learning_rate: 2.0000e-05\n",
            "Epoch 22/50\n",
            "\u001b[1m88/88\u001b[0m \u001b[32m━━━━━━━━━━━━━━━━━━━━\u001b[0m\u001b[37m\u001b[0m \u001b[1m1s\u001b[0m 5ms/step - accuracy: 0.2188 - loss: 1.5013 - val_accuracy: 0.3333 - val_loss: 1.0431 - learning_rate: 4.0000e-06\n",
            "Epoch 23/50\n",
            "\u001b[1m88/88\u001b[0m \u001b[32m━━━━━━━━━━━━━━━━━━━━\u001b[0m\u001b[37m\u001b[0m \u001b[1m81s\u001b[0m 423ms/step - accuracy: 0.3735 - loss: 1.4263 - val_accuracy: 0.3864 - val_loss: 1.4266 - learning_rate: 4.0000e-06\n",
            "Epoch 24/50\n",
            "\u001b[1m88/88\u001b[0m \u001b[32m━━━━━━━━━━━━━━━━━━━━\u001b[0m\u001b[37m\u001b[0m \u001b[1m0s\u001b[0m 1ms/step - accuracy: 0.3750 - loss: 1.2676 - val_accuracy: 0.6667 - val_loss: 1.0656 - learning_rate: 4.0000e-06\n",
            "Epoch 25/50\n",
            "\u001b[1m88/88\u001b[0m \u001b[32m━━━━━━━━━━━━━━━━━━━━\u001b[0m\u001b[37m\u001b[0m \u001b[1m40s\u001b[0m 426ms/step - accuracy: 0.3642 - loss: 1.4278 - val_accuracy: 0.3892 - val_loss: 1.4220 - learning_rate: 4.0000e-06\n",
            "Epoch 26/50\n",
            "\u001b[1m88/88\u001b[0m \u001b[32m━━━━━━━━━━━━━━━━━━━━\u001b[0m\u001b[37m\u001b[0m \u001b[1m0s\u001b[0m 799us/step - accuracy: 0.4062 - loss: 1.3947 - val_accuracy: 0.3333 - val_loss: 1.5261 - learning_rate: 4.0000e-06\n",
            "Epoch 27/50\n",
            "\u001b[1m88/88\u001b[0m \u001b[32m━━━━━━━━━━━━━━━━━━━━\u001b[0m\u001b[37m\u001b[0m \u001b[1m40s\u001b[0m 434ms/step - accuracy: 0.3879 - loss: 1.4061 - val_accuracy: 0.3778 - val_loss: 1.4250 - learning_rate: 4.0000e-06\n",
            "Epoch 28/50\n",
            "\u001b[1m88/88\u001b[0m \u001b[32m━━━━━━━━━━━━━━━━━━━━\u001b[0m\u001b[37m\u001b[0m \u001b[1m0s\u001b[0m 836us/step - accuracy: 0.2812 - loss: 1.5403 - val_accuracy: 0.6667 - val_loss: 1.1828 - learning_rate: 1.0000e-06\n",
            "Epoch 29/50\n",
            "\u001b[1m88/88\u001b[0m \u001b[32m━━━━━━━━━━━━━━━━━━━━\u001b[0m\u001b[37m\u001b[0m \u001b[1m41s\u001b[0m 435ms/step - accuracy: 0.3663 - loss: 1.4178 - val_accuracy: 0.3807 - val_loss: 1.4252 - learning_rate: 1.0000e-06\n",
            "Epoch 30/50\n",
            "\u001b[1m88/88\u001b[0m \u001b[32m━━━━━━━━━━━━━━━━━━━━\u001b[0m\u001b[37m\u001b[0m \u001b[1m0s\u001b[0m 850us/step - accuracy: 0.4062 - loss: 1.5870 - val_accuracy: 0.3333 - val_loss: 1.1626 - learning_rate: 1.0000e-06\n",
            "Epoch 31/50\n",
            "\u001b[1m88/88\u001b[0m \u001b[32m━━━━━━━━━━━━━━━━━━━━\u001b[0m\u001b[37m\u001b[0m \u001b[1m40s\u001b[0m 433ms/step - accuracy: 0.3848 - loss: 1.4064 - val_accuracy: 0.3778 - val_loss: 1.4273 - learning_rate: 1.0000e-06\n",
            "Epoch 32/50\n",
            "\u001b[1m88/88\u001b[0m \u001b[32m━━━━━━━━━━━━━━━━━━━━\u001b[0m\u001b[37m\u001b[0m \u001b[1m1s\u001b[0m 6ms/step - accuracy: 0.3125 - loss: 1.4356 - val_accuracy: 0.6667 - val_loss: 0.9079 - learning_rate: 1.0000e-06\n",
            "Epoch 33/50\n",
            "\u001b[1m88/88\u001b[0m \u001b[32m━━━━━━━━━━━━━━━━━━━━\u001b[0m\u001b[37m\u001b[0m \u001b[1m40s\u001b[0m 432ms/step - accuracy: 0.3831 - loss: 1.3792 - val_accuracy: 0.3835 - val_loss: 1.4165 - learning_rate: 1.0000e-06\n",
            "Epoch 34/50\n",
            "\u001b[1m88/88\u001b[0m \u001b[32m━━━━━━━━━━━━━━━━━━━━\u001b[0m\u001b[37m\u001b[0m \u001b[1m0s\u001b[0m 760us/step - accuracy: 0.3125 - loss: 1.5017 - val_accuracy: 0.3333 - val_loss: 2.1817 - learning_rate: 1.0000e-06\n",
            "Epoch 35/50\n",
            "\u001b[1m88/88\u001b[0m \u001b[32m━━━━━━━━━━━━━━━━━━━━\u001b[0m\u001b[37m\u001b[0m \u001b[1m41s\u001b[0m 428ms/step - accuracy: 0.3648 - loss: 1.4319 - val_accuracy: 0.3835 - val_loss: 1.4217 - learning_rate: 1.0000e-06\n",
            "Epoch 36/50\n",
            "\u001b[1m88/88\u001b[0m \u001b[32m━━━━━━━━━━━━━━━━━━━━\u001b[0m\u001b[37m\u001b[0m \u001b[1m0s\u001b[0m 1ms/step - accuracy: 0.5625 - loss: 1.2508 - val_accuracy: 0.3333 - val_loss: 1.5328 - learning_rate: 1.0000e-06\n",
            "Epoch 37/50\n",
            "\u001b[1m88/88\u001b[0m \u001b[32m━━━━━━━━━━━━━━━━━━━━\u001b[0m\u001b[37m\u001b[0m \u001b[1m40s\u001b[0m 421ms/step - accuracy: 0.3623 - loss: 1.4066 - val_accuracy: 0.3807 - val_loss: 1.4242 - learning_rate: 1.0000e-06\n",
            "Epoch 38/50\n",
            "\u001b[1m88/88\u001b[0m \u001b[32m━━━━━━━━━━━━━━━━━━━━\u001b[0m\u001b[37m\u001b[0m \u001b[1m0s\u001b[0m 2ms/step - accuracy: 0.5000 - loss: 1.2576 - val_accuracy: 0.6667 - val_loss: 1.2498 - learning_rate: 1.0000e-06\n",
            "Epoch 39/50\n",
            "\u001b[1m88/88\u001b[0m \u001b[32m━━━━━━━━━━━━━━━━━━━━\u001b[0m\u001b[37m\u001b[0m \u001b[1m40s\u001b[0m 425ms/step - accuracy: 0.3642 - loss: 1.4237 - val_accuracy: 0.3807 - val_loss: 1.4252 - learning_rate: 1.0000e-06\n",
            "Epoch 40/50\n",
            "\u001b[1m88/88\u001b[0m \u001b[32m━━━━━━━━━━━━━━━━━━━━\u001b[0m\u001b[37m\u001b[0m \u001b[1m0s\u001b[0m 826us/step - accuracy: 0.4375 - loss: 1.3582 - val_accuracy: 0.6667 - val_loss: 1.0845 - learning_rate: 1.0000e-06\n",
            "Epoch 41/50\n",
            "\u001b[1m88/88\u001b[0m \u001b[32m━━━━━━━━━━━━━━━━━━━━\u001b[0m\u001b[37m\u001b[0m \u001b[1m40s\u001b[0m 430ms/step - accuracy: 0.3736 - loss: 1.4345 - val_accuracy: 0.3835 - val_loss: 1.4250 - learning_rate: 1.0000e-06\n",
            "Epoch 42/50\n",
            "\u001b[1m88/88\u001b[0m \u001b[32m━━━━━━━━━━━━━━━━━━━━\u001b[0m\u001b[37m\u001b[0m \u001b[1m0s\u001b[0m 819us/step - accuracy: 0.3750 - loss: 1.3705 - val_accuracy: 0.3333 - val_loss: 1.1151 - learning_rate: 1.0000e-06\n"
          ]
        }
      ]
    },
    {
      "cell_type": "code",
      "source": [],
      "metadata": {
        "id": "YixaV579i6vz"
      },
      "execution_count": null,
      "outputs": []
    },
    {
      "cell_type": "code",
      "source": [],
      "metadata": {
        "id": "18KFvK9Gi6y1"
      },
      "execution_count": null,
      "outputs": []
    },
    {
      "cell_type": "code",
      "source": [],
      "metadata": {
        "id": "5Q9ptXzci61n"
      },
      "execution_count": null,
      "outputs": []
    },
    {
      "cell_type": "code",
      "source": [],
      "metadata": {
        "id": "YnURw5RPi65K"
      },
      "execution_count": null,
      "outputs": []
    },
    {
      "cell_type": "code",
      "source": [
        "plt.plot(history.history['loss'],color='red',label='train')\n",
        "plt.plot(history.history['val_loss'],color='blue',label='validation')\n",
        "plt.legend()\n",
        "plt.show()"
      ],
      "metadata": {
        "colab": {
          "base_uri": "https://localhost:8080/",
          "height": 430
        },
        "id": "Pq6SluX9YQQr",
        "outputId": "299611c2-d85a-4917-af0f-36fd4e7acfd0"
      },
      "execution_count": null,
      "outputs": [
        {
          "output_type": "display_data",
          "data": {
            "text/plain": [
              "<Figure size 640x480 with 1 Axes>"
            ],
            "image/png": "[encoded data removed]"
          },
          "metadata": {}
        }
      ]
    },
    {
      "cell_type": "code",
      "source": [],
      "metadata": {
        "id": "s_wTKHGTimU4"
      },
      "execution_count": null,
      "outputs": []
    },
    {
      "cell_type": "code",
      "source": [
        "test_generator = test_datagen.flow_from_directory(\n",
        "        '/content/test',\n",
        "        target_size=(256, 256),\n",
        "        batch_size=32,\n",
        "        class_mode='categorical')"
      ],
      "metadata": {
        "colab": {
          "base_uri": "https://localhost:8080/"
        },
        "id": "6ZhL2UbNYUVi",
        "outputId": "b230aede-0b70-4fb0-b445-8c7b2717e78c"
      },
      "execution_count": null,
      "outputs": [
        {
          "output_type": "stream",
          "name": "stdout",
          "text": [
            "Found 350 images belonging to 5 classes.\n"
          ]
        }
      ]
    },
    {
      "cell_type": "code",
      "source": [
        "train_loss,train_accuracy = model.evaluate(train_generator)\n",
        "train_loss,train_accuracy = model.evaluate(validation_generator)\n",
        "train_loss,train_accuracy = model.evaluate(test_generator)"
      ],
      "metadata": {
        "colab": {
          "base_uri": "https://localhost:8080/"
        },
        "id": "MzT1lDkPYbPR",
        "outputId": "5a74786f-45cc-4b3f-fe2d-1e65d397d9ad"
      },
      "execution_count": null,
      "outputs": [
        {
          "output_type": "stream",
          "name": "stdout",
          "text": [
            "\u001b[1m89/89\u001b[0m \u001b[32m━━━━━━━━━━━━━━━━━━━━\u001b[0m\u001b[37m\u001b[0m \u001b[1m56s\u001b[0m 623ms/step - accuracy: 0.3816 - loss: 1.4048\n",
            "\u001b[1m12/12\u001b[0m \u001b[32m━━━━━━━━━━━━━━━━━━━━\u001b[0m\u001b[37m\u001b[0m \u001b[1m3s\u001b[0m 210ms/step - accuracy: 0.3929 - loss: 1.4183\n",
            "\u001b[1m11/11\u001b[0m \u001b[32m━━━━━━━━━━━━━━━━━━━━\u001b[0m\u001b[37m\u001b[0m \u001b[1m11s\u001b[0m 1s/step - accuracy: 0.3535 - loss: 1.4125\n"
          ]
        }
      ]
    },
    {
      "cell_type": "code",
      "source": [
        "import numpy as np\n",
        "from sklearn.metrics import confusion_matrix, classification_report\n",
        "import seaborn as sns\n",
        "import matplotlib.pyplot as plt\n",
        "\n",
        "# Assuming you have your model and test_generator already defined\n",
        "\n",
        "# Generate predictions\n",
        "y_pred = model.predict(test_generator)\n",
        "y_pred_classes = np.argmax(y_pred, axis=1)\n",
        "\n",
        "# Get true labels\n",
        "y_true = test_generator.classes\n",
        "\n",
        "# Compute confusion matrix\n",
        "cm = confusion_matrix(y_true, y_pred_classes)\n",
        "\n",
        "# Plot confusion matrix\n",
        "plt.figure(figsize=(10, 8))\n",
        "sns.heatmap(cm, annot=True, fmt='d', cmap='Blues')\n",
        "plt.title('Confusion Matrix')\n",
        "plt.ylabel('True Label')\n",
        "plt.xlabel('Predicted Label')\n",
        "plt.show()\n",
        "\n",
        "# Print classification report\n",
        "class_names = list(test_generator.class_indices.keys())\n",
        "print(classification_report(y_true, y_pred_classes, target_names=class_names))\n",
        "\n",
        "# If you want to save the confusion matrix plot\n",
        "plt.savefig('confusion_matrix.png')\n",
        "print(\"Confusion matrix saved as 'confusion_matrix.png'\")\n",
        "\n",
        "# If you want to save the classification report to a file\n",
        "with open('classification_report.txt', 'w') as f:\n",
        "    f.write(classification_report(y_true, y_pred_classes, target_names=class_names))\n",
        "print(\"Classification report saved as 'classification_report.txt'\")"
      ],
      "metadata": {
        "colab": {
          "base_uri": "https://localhost:8080/",
          "height": 996
        },
        "id": "VpuH4pZTZ579",
        "outputId": "ea76c354-deb0-4bd9-db72-8be4df60f98e"
      },
      "execution_count": null,
      "outputs": [
        {
          "output_type": "stream",
          "name": "stdout",
          "text": [
            "\u001b[1m11/11\u001b[0m \u001b[32m━━━━━━━━━━━━━━━━━━━━\u001b[0m\u001b[37m\u001b[0m \u001b[1m18s\u001b[0m 1s/step\n"
          ]
        },
        {
          "output_type": "display_data",
          "data": {
            "text/plain": [
              "<Figure size 1000x800 with 2 Axes>"
            ],
            "image/png": "[encoded data removed]"
          },
          "metadata": {}
        },
        {
          "output_type": "stream",
          "name": "stdout",
          "text": [
            "                precision    recall  f1-score   support\n",
            "\n",
            "          Mild       0.19      0.16      0.17        70\n",
            "      Moderate       0.26      0.14      0.18        70\n",
            "         No_DR       0.23      0.27      0.25        70\n",
            "Proliferate_DR       0.23      0.17      0.20        70\n",
            "        Severe       0.19      0.33      0.24        70\n",
            "\n",
            "      accuracy                           0.21       350\n",
            "     macro avg       0.22      0.21      0.21       350\n",
            "  weighted avg       0.22      0.21      0.21       350\n",
            "\n",
            "Confusion matrix saved as 'confusion_matrix.png'\n",
            "Classification report saved as 'classification_report.txt'\n"
          ]
        },
        {
          "output_type": "display_data",
          "data": {
            "text/plain": [
              "<Figure size 640x480 with 0 Axes>"
            ]
          },
          "metadata": {}
        }
      ]
    },
    {
      "cell_type": "code",
      "source": [],
      "metadata": {
        "id": "7oioaigZ5BrG"
      },
      "execution_count": null,
      "outputs": []
    },
    {
      "cell_type": "code",
      "source": [],
      "metadata": {
        "id": "T4AaGz3Y5BuH"
      },
      "execution_count": null,
      "outputs": []
    },
    {
      "cell_type": "code",
      "source": [],
      "metadata": {
        "id": "6F_wLZnv5Bxb"
      },
      "execution_count": null,
      "outputs": []
    },
    {
      "cell_type": "code",
      "source": [],
      "metadata": {
        "id": "9REP8RRN5B0I"
      },
      "execution_count": null,
      "outputs": []
    },
    {
      "cell_type": "code",
      "source": [],
      "metadata": {
        "id": "ruGU_NL-5B3M"
      },
      "execution_count": null,
      "outputs": []
    },
    {
      "cell_type": "code",
      "source": [],
      "metadata": {
        "id": "mgY04nTS5B6J"
      },
      "execution_count": null,
      "outputs": []
    },
    {
      "cell_type": "code",
      "source": [
        "!mkdir -p ~/.kaggle\n",
        "!cp kaggle.json ~/.kaggle/"
      ],
      "metadata": {
        "id": "xUJShbZc5B9h"
      },
      "execution_count": null,
      "outputs": []
    },
    {
      "cell_type": "code",
      "source": [
        "!kaggle datasets download -d amanneo/diabetic-retinopathy-resized-arranged"
      ],
      "metadata": {
        "colab": {
          "base_uri": "https://localhost:8080/"
        },
        "id": "IOeLLWWO5FkA",
        "outputId": "eb6853b6-703e-4ddf-8a74-0cdaee0b9324"
      },
      "execution_count": null,
      "outputs": [
        {
          "output_type": "stream",
          "name": "stdout",
          "text": [
            "Warning: Your Kaggle API key is readable by other users on this system! To fix this, you can run 'chmod 600 /root/.kaggle/kaggle.json'\n",
            "Dataset URL: https://www.kaggle.com/datasets/amanneo/diabetic-retinopathy-resized-arranged\n",
            "License(s): CC0-1.0\n",
            "Downloading diabetic-retinopathy-resized-arranged.zip to /content\n",
            " 99% 1.20G/1.21G [00:14<00:00, 93.2MB/s]\n",
            "100% 1.21G/1.21G [00:14<00:00, 87.5MB/s]\n"
          ]
        }
      ]
    },
    {
      "cell_type": "code",
      "source": [
        "import zipfile\n",
        "zip_ref = zipfile.ZipFile('/content/diabetic-retinopathy-resized-arranged.zip', 'r')\n",
        "zip_ref.extractall('/content')\n",
        "zip_ref.close()"
      ],
      "metadata": {
        "id": "Q6-yT2Au5NCV"
      },
      "execution_count": null,
      "outputs": []
    },
    {
      "cell_type": "code",
      "source": [
        "import os\n",
        "import shutil\n",
        "\n",
        "# Define the source directories and the target directory\n",
        "source_dirs = [\n",
        "    '/content/1',\n",
        "    '/content/2',\n",
        "    '/content/3',\n",
        "    '/content/4'\n",
        "]\n",
        "target_dir = '/content/combine'\n",
        "\n",
        "# Create the target directory if it doesn't exist\n",
        "os.makedirs(target_dir, exist_ok=True)\n",
        "\n",
        "# Loop through each source directory\n",
        "for source_dir in source_dirs:\n",
        "    # List all files in the source directory\n",
        "    for filename in os.listdir(source_dir):\n",
        "        # Construct full file path\n",
        "        source_file = os.path.join(source_dir, filename)\n",
        "        # Check if it's a file\n",
        "        if os.path.isfile(source_file):\n",
        "            # Copy file to target directory\n",
        "            shutil.copy(source_file, target_dir)\n",
        "\n",
        "print(f\"All images copied to {target_dir}\")\n"
      ],
      "metadata": {
        "colab": {
          "base_uri": "https://localhost:8080/"
        },
        "id": "M_PpdTbr5kEo",
        "outputId": "74c20872-fc0c-48ba-fed7-949464e6b0fc"
      },
      "execution_count": null,
      "outputs": [
        {
          "output_type": "stream",
          "name": "stdout",
          "text": [
            "All images copied to /content/combine\n"
          ]
        }
      ]
    },
    {
      "cell_type": "code",
      "source": [
        "import shutil\n",
        "import os\n",
        "\n",
        "def zip_folder(folder_path, output_zip_path):\n",
        "    # Check if the folder exists\n",
        "    if not os.path.isdir(folder_path):\n",
        "        print(f\"The folder '{folder_path}' does not exist.\")\n",
        "        return\n",
        "\n",
        "    # Create a ZIP file from the folder\n",
        "    shutil.make_archive(output_zip_path, 'zip', folder_path)\n",
        "\n",
        "    print(f\"Folder '{folder_path}' has been zipped into '{output_zip_path}.zip'\")\n",
        "\n",
        "# Example usage\n",
        "folder_to_zip = '/content/0'  # Replace with the path to your folder\n",
        "output_zip_file = '/content/Untitled Folder'  # Replace with desired output path (without .zip)\n",
        "\n",
        "zip_folder(folder_to_zip, output_zip_file)\n"
      ],
      "metadata": {
        "colab": {
          "base_uri": "https://localhost:8080/"
        },
        "id": "LhhuBKZB6Bcv",
        "outputId": "94522992-b336-49a1-c7c0-3cc1fc27ddee"
      },
      "execution_count": null,
      "outputs": [
        {
          "output_type": "stream",
          "name": "stdout",
          "text": [
            "Folder '/content/0' has been zipped into '/content/Untitled Folder.zip'\n"
          ]
        }
      ]
    },
    {
      "cell_type": "code",
      "source": [],
      "metadata": {
        "id": "1xdXLEqc6cyc"
      },
      "execution_count": null,
      "outputs": []
    }
  ]
}