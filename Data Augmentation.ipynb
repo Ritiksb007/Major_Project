{
 "cells": [
  {
   "cell_type": "code",
   "execution_count": null,
   "id": "593e5a73-0182-4b31-a5cf-f1a656c260d8",
   "metadata": {},
   "outputs": [],
   "source": [
    "# pip install --upgrade ipywidgets"
   ]
  },
  {
   "cell_type": "code",
   "execution_count": null,
   "id": "67ef2fb0-e2e9-4af6-92f6-346233024299",
   "metadata": {},
   "outputs": [],
   "source": [
    "# !pip install opencv-python-headless tqdm tensorflow"
   ]
  },
  {
   "cell_type": "code",
   "execution_count": 11,
   "id": "6b4dc246-7232-4584-b88b-b917f90f9d42",
   "metadata": {},
   "outputs": [],
   "source": [
    "import os\n",
    "import cv2\n",
    "import numpy as np\n",
    "from tensorflow.keras.preprocessing.image import ImageDataGenerator\n",
    "#from tqdm.notebook import tqdm  # Use tqdm.notebook for better visualization in Jupyter\n",
    "from tqdm import tqdm "
   ]
  },
  {
   "cell_type": "code",
   "execution_count": 13,
   "id": "d429a0ac-4bbc-4e5e-b3d6-623629e5e797",
   "metadata": {},
   "outputs": [],
   "source": [
    "# Define paths\n",
    "dataset_folder = 'D:/College/7th Sem/Major Project/Final Data/colored_images'  # Change this to your local dataset folder\n",
    "output_folder = 'D:/College/7th Sem/Major Project/Final Data/Augmented Data'  # Change this to your local output folder\n",
    "categories = ['Mild', 'Moderate', 'No_DR', 'Proliferate_DR', 'Severe']"
   ]
  },
  {
   "cell_type": "code",
   "execution_count": 15,
   "id": "02418743-7c05-40d2-a6fe-aae5928d4d6b",
   "metadata": {},
   "outputs": [],
   "source": [
    "# Create ImageDataGenerator for augmentation\n",
    "datagen = ImageDataGenerator(\n",
    "    rotation_range=20,\n",
    "    width_shift_range=0.1,\n",
    "    height_shift_range=0.1,\n",
    "    shear_range=0.1,\n",
    "    zoom_range=0.1,\n",
    "    horizontal_flip=True,\n",
    "    fill_mode='nearest'\n",
    ")"
   ]
  },
  {
   "cell_type": "code",
   "execution_count": 17,
   "id": "5f8563d6-a7a0-42af-8dad-56bef5173048",
   "metadata": {},
   "outputs": [],
   "source": [
    "# Function to save augmented images\n",
    "def save_augmented_images(category, img_array, image_name, augmentations_needed):\n",
    "    img_array = np.expand_dims(img_array, axis=0)\n",
    "    aug_iter = datagen.flow(img_array, batch_size=1)\n",
    "    for i in range(augmentations_needed):\n",
    "        aug_image = next(aug_iter)[0].astype('uint8')\n",
    "        save_path = os.path.join(output_folder, category, f\"aug_{i}_{image_name}\")\n",
    "        cv2.imwrite(save_path, aug_image)\n"
   ]
  },
  {
   "cell_type": "code",
   "execution_count": 19,
   "id": "21af74ec-11ec-4a02-964e-de886c1dadef",
   "metadata": {},
   "outputs": [],
   "source": [
    "# Ensure output folder structure\n",
    "for category in categories:\n",
    "    os.makedirs(os.path.join(output_folder, category), exist_ok=True)\n",
    "\n",
    "# Count images per class\n",
    "image_counts = {category: len(os.listdir(os.path.join(dataset_folder, category))) for category in categories}\n",
    "\n",
    "# Target count is the maximum number of images from any class (No_DR)\n",
    "max_count = max(image_counts.values())\n"
   ]
  },
  {
   "cell_type": "code",
   "execution_count": null,
   "id": "4e2c9b4a-e228-4352-bb43-de3b66e23bd3",
   "metadata": {},
   "outputs": [
    {
     "name": "stderr",
     "output_type": "stream",
     "text": [
      "Augmenting Mild:   0%|          | 1/2463 [04:37<190:00:26, 277.83s/it]"
     ]
    }
   ],
   "source": [
    "# Perform augmentation\n",
    "for category in categories:\n",
    "    category_folder = os.path.join(dataset_folder, category)\n",
    "    images = os.listdir(category_folder)\n",
    "    \n",
    "    for image_name in tqdm(images, desc=f\"Augmenting {category}\"):\n",
    "        img_path = os.path.join(category_folder, image_name)\n",
    "        img = cv2.imread(img_path)\n",
    "        if img is None:\n",
    "            continue  # Skip if image can't be read\n",
    "\n",
    "        # Check how many augmentations we need to perform\n",
    "        augmentations_needed = max_count - image_counts[category]\n",
    "        \n",
    "        if augmentations_needed > 0:\n",
    "            save_augmented_images(category, img, image_name, augmentations_needed)"
   ]
  },
  {
   "cell_type": "markdown",
   "id": "f8fb8d4d-16ec-4860-9987-6343416a674c",
   "metadata": {},
   "source": [
    "# Data Augumentation file with proper working code"
   ]
  },
  {
   "cell_type": "code",
   "execution_count": 2,
   "id": "6341510e-adba-4bd9-b12f-2a29558d8c72",
   "metadata": {},
   "outputs": [],
   "source": [
    "import os\n",
    "import cv2\n",
    "import numpy as np\n",
    "from tensorflow.keras.preprocessing.image import ImageDataGenerator\n",
    "from tqdm import tqdm  # Standard tqdm for VS Code"
   ]
  },
  {
   "cell_type": "code",
   "execution_count": 4,
   "id": "9a1cefa7-1f13-4b54-918a-90d61cecaf6f",
   "metadata": {},
   "outputs": [],
   "source": [
    "# Define paths\n",
    "dataset_folder = 'D:/College/7th Sem/Major Project/Final Data/colored_images'  # Change this to your local dataset folder\n",
    "output_folder = 'D:/College/7th Sem/Major Project/Final Data/Augmented Data'  # Change this to your local output folder\n",
    "categories = ['Mild', 'Moderate', 'No_DR', 'Proliferate_DR', 'Severe']"
   ]
  },
  {
   "cell_type": "code",
   "execution_count": 6,
   "id": "d5f074d7-e4c3-40ce-9f4d-239ed9ab95d6",
   "metadata": {},
   "outputs": [],
   "source": [
    "# Create ImageDataGenerator for augmentation\n",
    "datagen = ImageDataGenerator(\n",
    "    rotation_range=20,\n",
    "    width_shift_range=0.1,\n",
    "    height_shift_range=0.1,\n",
    "    shear_range=0.1,\n",
    "    zoom_range=0.1,\n",
    "    horizontal_flip=True,\n",
    "    fill_mode='nearest'\n",
    ")"
   ]
  },
  {
   "cell_type": "code",
   "execution_count": 8,
   "id": "75844c5d-254b-427f-b204-dbd415bae832",
   "metadata": {},
   "outputs": [],
   "source": [
    "# Function to save augmented images\n",
    "def save_augmented_images(category, img_array, image_name, augmentations_needed):\n",
    "    img_array = np.expand_dims(img_array, axis=0)\n",
    "    aug_iter = datagen.flow(img_array, batch_size=1)\n",
    "    for i in range(augmentations_needed):\n",
    "        aug_image = next(aug_iter)[0].astype('uint8')\n",
    "        save_path = os.path.join(output_folder, category, f\"aug_{i}_{image_name}\")\n",
    "        cv2.imwrite(save_path, aug_image)"
   ]
  },
  {
   "cell_type": "code",
   "execution_count": 10,
   "id": "99cebc7a-1e17-4686-86cb-4a5f4c08fdac",
   "metadata": {},
   "outputs": [],
   "source": [
    "# Ensure output folder structure\n",
    "for category in categories:\n",
    "    os.makedirs(os.path.join(output_folder, category), exist_ok=True)\n",
    "\n",
    "# Count images per class\n",
    "image_counts = {category: len(os.listdir(os.path.join(dataset_folder, category))) for category in categories}\n",
    "\n",
    "# Target count is the maximum number of images from any class (largest class size)\n",
    "max_count = max(image_counts.values())"
   ]
  },
  {
   "cell_type": "code",
   "execution_count": 12,
   "id": "a37e0abd-398c-4b81-b6f1-90640fe7eceb",
   "metadata": {},
   "outputs": [
    {
     "name": "stderr",
     "output_type": "stream",
     "text": [
      "Balancing Mild: 100%|██████████| 2463/2463 [13:51<00:00,  2.96it/s]\n",
      "Balancing Moderate: 100%|██████████| 5428/5428 [29:23<00:00,  3.08it/s]\n",
      "Balancing Proliferate_DR: 100%|██████████| 757/757 [57:11<00:00,  4.53s/it]\n",
      "Balancing Severe: 100%|██████████| 947/947 [1:06:21<00:00,  4.20s/it]"
     ]
    },
    {
     "name": "stdout",
     "output_type": "stream",
     "text": [
      "Data augmentation and balancing completed.\n"
     ]
    },
    {
     "name": "stderr",
     "output_type": "stream",
     "text": [
      "\n"
     ]
    }
   ],
   "source": [
    "# Perform augmentation to balance the dataset\n",
    "for category in categories:\n",
    "    category_folder = os.path.join(dataset_folder, category)\n",
    "    images = os.listdir(category_folder)\n",
    "    \n",
    "    # Calculate how many augmentations are needed to balance the class\n",
    "    current_count = image_counts[category]\n",
    "    augmentations_needed = max_count - current_count\n",
    "    \n",
    "    # Augment images only if the category has fewer images than the largest category\n",
    "    if augmentations_needed > 0:\n",
    "        for image_name in tqdm(images, desc=f\"Balancing {category}\"):\n",
    "            img_path = os.path.join(category_folder, image_name)\n",
    "            img = cv2.imread(img_path)\n",
    "            if img is None:\n",
    "                continue  # Skip if the image can't be read\n",
    "\n",
    "            # Distribute augmentations across images\n",
    "            augmentations_per_image = (augmentations_needed // current_count) + 1  # Add 1 to ensure coverage\n",
    "            save_augmented_images(category, img, image_name, augmentations_per_image)\n",
    "\n",
    "            # Update the count of augmented images\n",
    "            augmentations_needed -= augmentations_per_image\n",
    "            \n",
    "            # Stop augmenting once the category reaches the target size\n",
    "            if augmentations_needed <= 0:\n",
    "                break\n",
    "\n",
    "print(\"Data augmentation and balancing completed.\")"
   ]
  },
  {
   "cell_type": "code",
   "execution_count": null,
   "id": "1bdc456b-ede6-4173-8431-439f2cec9bb9",
   "metadata": {},
   "outputs": [],
   "source": []
  }
 ],
 "metadata": {
  "kernelspec": {
   "display_name": "Python 3 (ipykernel)",
   "language": "python",
   "name": "python3"
  },
  "language_info": {
   "codemirror_mode": {
    "name": "ipython",
    "version": 3
   },
   "file_extension": ".py",
   "mimetype": "text/x-python",
   "name": "python",
   "nbconvert_exporter": "python",
   "pygments_lexer": "ipython3",
   "version": "3.11.7"
  }
 },
 "nbformat": 4,
 "nbformat_minor": 5
}
