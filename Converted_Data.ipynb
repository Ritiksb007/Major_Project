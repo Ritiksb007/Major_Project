{
 "cells": [
  {
   "cell_type": "code",
   "execution_count": 6,
   "id": "e33afbae-c6e5-4fe0-85fb-232f7157bf0c",
   "metadata": {},
   "outputs": [
    {
     "name": "stdout",
     "output_type": "stream",
     "text": [
      "Excel file created successfully at D:/College/7th Sem/Data/Converted_Data/Aug_Data.xlsx. All images moved to D:/College/7th Sem/Data/Converted_Data.\n"
     ]
    }
   ],
   "source": [
    "import os\n",
    "import shutil\n",
    "import pandas as pd\n",
    "\n",
    "# Define paths\n",
    "base_dir = 'D:/College/7th Sem/Data/Converted_Data/Aug_Data'  # Base directory where the class folders are located\n",
    "output_dir = 'D:/College/7th Sem/Data/Converted_Data'  # Destination directory where all images will be saved\n",
    "excel_path = 'D:/College/7th Sem/Data/Converted_Data/Aug_Data.xlsx'  # Path where the Excel file will be saved\n",
    "\n",
    "# Class folder names and corresponding labels\n",
    "class_labels = {\n",
    "    'No_DR': 0,\n",
    "    'Mild': 1,\n",
    "    'Moderate': 2,\n",
    "    'Proliferate_DR': 3,\n",
    "    'Severe': 4\n",
    "}\n",
    "\n",
    "# Ensure the output directory exists\n",
    "os.makedirs(output_dir, exist_ok=True)\n",
    "\n",
    "# Prepare a list to store image names and class levels\n",
    "image_data = []\n",
    "\n",
    "# Loop through each class folder\n",
    "for class_name, label in class_labels.items():\n",
    "    class_dir = os.path.join(base_dir, class_name)  # Path to the class folder\n",
    "    \n",
    "    # Ensure class directory exists\n",
    "    if not os.path.exists(class_dir):\n",
    "        print(f\"Warning: Directory {class_dir} does not exist.\")\n",
    "        continue\n",
    "    \n",
    "    # Loop through each image in the class folder\n",
    "    for image_name in os.listdir(class_dir):\n",
    "        if image_name.endswith(('.jpg', '.jpeg', '.png')):  # Add other extensions if needed\n",
    "            source_path = os.path.join(class_dir, image_name)  # Original image path\n",
    "            destination_path = os.path.join(output_dir, image_name)  # New path for moving images\n",
    "            \n",
    "            # Move the image to the new folder\n",
    "            shutil.copy2(source_path, destination_path)  # Use shutil.move() if you want to move instead of copy\n",
    "            \n",
    "            # Append image info to the list for the Excel file\n",
    "            image_data.append([image_name, label])\n",
    "\n",
    "# Create a DataFrame for the Excel file\n",
    "df = pd.DataFrame(image_data, columns=['image', 'level'])\n",
    "\n",
    "# Save the DataFrame to an Excel file\n",
    "df.to_excel(excel_path, index=False)\n",
    "\n",
    "print(f\"Excel file created successfully at {excel_path}. All images moved to {output_dir}.\")\n"
   ]
  },
  {
   "cell_type": "markdown",
   "id": "1d4d7785-ba2a-47dc-8311-da7a73cc6691",
   "metadata": {},
   "source": [
    "# Renamed Reconstructed Data"
   ]
  },
  {
   "cell_type": "code",
   "execution_count": 8,
   "id": "4060abf1-8b45-48d1-9260-576bcb5e5e97",
   "metadata": {},
   "outputs": [
    {
     "name": "stdout",
     "output_type": "stream",
     "text": [
      "Excel file created successfully at D:/College/7th Sem/Data/Converted_Data/Aug_Data.xlsx. All images moved and renamed in D:/College/7th Sem/Data/Converted_Data/All_Images.\n"
     ]
    }
   ],
   "source": [
    "import os\n",
    "import shutil\n",
    "import pandas as pd\n",
    "\n",
    "# Define paths\n",
    "base_dir = 'D:/College/7th Sem/Data/Converted_Data/Aug_Data'  # Base directory where the class folders are located\n",
    "output_dir = 'D:/College/7th Sem/Data/Converted_Data/All_Images'  # Destination directory where all images will be saved\n",
    "excel_path = 'D:/College/7th Sem/Data/Converted_Data/Aug_Data.xlsx'  # Path where the Excel file will be saved\n",
    "\n",
    "# Class folder names and corresponding labels\n",
    "class_labels = {\n",
    "    'No_DR': 0,\n",
    "    'Mild': 1,\n",
    "    'Moderate': 2,\n",
    "    'Proliferate_DR': 3,\n",
    "    'Severe': 4\n",
    "}\n",
    "\n",
    "# Ensure the output directory exists\n",
    "os.makedirs(output_dir, exist_ok=True)\n",
    "\n",
    "# Prepare a list to store image names and class levels for the Excel file\n",
    "image_data = []\n",
    "\n",
    "# Loop through each class folder\n",
    "for class_name, label in class_labels.items():\n",
    "    class_dir = os.path.join(base_dir, class_name)  # Path to the class folder\n",
    "    \n",
    "    # Ensure class directory exists\n",
    "    if not os.path.exists(class_dir):\n",
    "        print(f\"Warning: Directory {class_dir} does not exist.\")\n",
    "        continue\n",
    "    \n",
    "    # Initialize a counter for each class\n",
    "    counter = 1\n",
    "    \n",
    "    # Loop through each image in the class folder\n",
    "    for image_name in os.listdir(class_dir):\n",
    "        if image_name.endswith(('.jpg', '.jpeg', '.png')):  # Add other extensions if needed\n",
    "            source_path = os.path.join(class_dir, image_name)  # Original image path\n",
    "            \n",
    "            # Rename the image with the format: counter_classname.extension (e.g., 1_No_DR.jpg)\n",
    "            new_image_name = f\"{counter}_{class_name}.jpg\"\n",
    "            destination_path = os.path.join(output_dir, new_image_name)  # New path for renamed images\n",
    "            \n",
    "            # Copy the image to the new folder with the new name\n",
    "            shutil.copy2(source_path, destination_path)  # Use shutil.move() if you want to move instead of copy\n",
    "            \n",
    "            # Append the new image info to the list for the Excel file\n",
    "            image_data.append([new_image_name, label])\n",
    "            \n",
    "            # Increment the counter for the next image\n",
    "            counter += 1\n",
    "\n",
    "# Create a DataFrame for the Excel file\n",
    "df = pd.DataFrame(image_data, columns=['image', 'level'])\n",
    "\n",
    "# Save the DataFrame to an Excel file\n",
    "df.to_excel(excel_path, index=False)\n",
    "\n",
    "print(f\"Excel file created successfully at {excel_path}. All images moved and renamed in {output_dir}.\")\n"
   ]
  },
  {
   "cell_type": "code",
   "execution_count": null,
   "id": "fb1c8225-6543-4055-bc1d-8d9358bbae5d",
   "metadata": {},
   "outputs": [],
   "source": []
  }
 ],
 "metadata": {
  "kernelspec": {
   "display_name": "Python 3 (ipykernel)",
   "language": "python",
   "name": "python3"
  },
  "language_info": {
   "codemirror_mode": {
    "name": "ipython",
    "version": 3
   },
   "file_extension": ".py",
   "mimetype": "text/x-python",
   "name": "python",
   "nbconvert_exporter": "python",
   "pygments_lexer": "ipython3",
   "version": "3.11.7"
  }
 },
 "nbformat": 4,
 "nbformat_minor": 5
}
